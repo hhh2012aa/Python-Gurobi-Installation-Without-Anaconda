{
 "cells": [
  {
   "cell_type": "markdown",
   "metadata": {},
   "source": [
    "# Shortest Path Tutorial\n",
    "\n",
    "![mathematical model](new_model.png)\n",
    "\n",
    "![Route](problem.png)"
   ]
  },
  {
   "cell_type": "code",
   "execution_count": 16,
   "metadata": {},
   "outputs": [
    {
     "name": "stdout",
     "output_type": "stream",
     "text": [
      "Gurobi Optimizer version 9.0.1 build v9.0.1rc0 (win64)\n",
      "Optimize a model with 5 rows, 25 columns and 34 nonzeros\n",
      "Model fingerprint: 0x317d442a\n",
      "Variable types: 0 continuous, 25 integer (25 binary)\n",
      "Coefficient statistics:\n",
      "  Matrix range     [1e+00, 1e+00]\n",
      "  Objective range  [2e+00, 8e+00]\n",
      "  Bounds range     [1e+00, 1e+00]\n",
      "  RHS range        [1e+00, 1e+00]\n",
      "Found heuristic solution: objective 0.0000000\n",
      "\n",
      "Explored 0 nodes (0 simplex iterations) in 0.01 seconds\n",
      "Thread count was 1 (of 4 available processors)\n",
      "\n",
      "Solution count 1: 0 \n",
      "\n",
      "Optimal solution found (tolerance 1.00e-04)\n",
      "Best objective 0.000000000000e+00, best bound 0.000000000000e+00, gap 0.0000%\n"
     ]
    }
   ],
   "source": [
    "from gurobipy import *\n",
    "import pandas as pd \n",
    "import numpy as np \n",
    "\n",
    "model = Model(\"Shortest path problem\")\n",
    "\n",
    "\n",
    "I = [i for i in range(5)]\n",
    "J = [i for i in range(5)]\n",
    "\n",
    "origin = 0\n",
    "dest = 4\n",
    "\n",
    "d = {(0,0):0,(0,1):5,(0,2):8,(0,3):0,(0,4):0,\n",
    "     (1,0):0,(1,1):0,(1,2):0,(1,3):2,(1,4):0,\n",
    "     (2,0):0,(2,1):8,(2,2):0,(2,3):0,(2,4):4,\n",
    "     (3,0):0,(3,1):0,(3,2):3,(3,3):0,(3,4):3,\n",
    "     (4,0):0,(4,1):0,(4,2):0,(4,3):0,(4,4):0,\n",
    "    }\n",
    "\n",
    "\n",
    "x = {}\n",
    "\n",
    "for key in d.keys():\n",
    "    x[key[0],key[1]] = model.addVar(vtype=\"B\", name=\"x(%s,%s)\"%(key[0],key[1]))\n",
    "\n",
    "\n",
    "\n",
    "model.addConstr(quicksum(x[key[0],key[1]] for key in d.keys() if key[0] == origin) == 1, name=\"start\")\n",
    "model.addConstr(quicksum(x[key[0],key[1]] for key in d.keys() if key[1] == dest) == 1, name=\"end\")\n",
    "\n",
    "for key in d.keys():\n",
    "    model.addConstr(d[key[0],key[1]] * x[key[0],key[1]] >= 0  , name = \"non-zero\")\n",
    "\n",
    "for j in J:\n",
    "    if j != origin and j != dest:\n",
    "        model.addConstr(quicksum(x[i,j] for i in I) - quicksum(x[j,k] for k in I) == 0, name=\"flow(%s)\"%j)\n",
    "\n",
    "\n",
    "\n",
    "model.setObjective(quicksum(d[key[0],key[1]]*x[key[0],key[1]] for key in d.keys()),GRB.MINIMIZE)\n",
    "\n",
    "model.optimize()\n",
    "model.write('test.lp')\n",
    "\n",
    "\n",
    "    \n",
    "    "
   ]
  },
  {
   "cell_type": "code",
   "execution_count": 15,
   "metadata": {},
   "outputs": [
    {
     "name": "stdout",
     "output_type": "stream",
     "text": [
      "x(0,0) \t 1.0\n",
      "x(1,1) \t 1.0\n",
      "x(2,2) \t 1.0\n",
      "x(3,3) \t 1.0\n",
      "x(4,0) \t 1.0\n",
      "x(4,4) \t 1.0\n"
     ]
    }
   ],
   "source": [
    "for var in model.getVars(): \n",
    "    if(var.x > 0):\n",
    "        print(var.varName, '\\t', var.x) \n"
   ]
  },
  {
   "cell_type": "code",
   "execution_count": 112,
   "metadata": {},
   "outputs": [
    {
     "name": "stdout",
     "output_type": "stream",
     "text": [
      "Warning: constraint name \"start flow\" has a space\n",
      "Gurobi Optimizer version 9.0.1 build v9.0.1rc0 (win64)\n",
      "Optimize a model with 7 rows, 7 columns and 14 nonzeros\n",
      "Model fingerprint: 0x48f1b1d2\n",
      "Variable types: 0 continuous, 7 integer (7 binary)\n",
      "Coefficient statistics:\n",
      "  Matrix range     [1e+00, 1e+00]\n",
      "  Objective range  [2e+00, 1e+01]\n",
      "  Bounds range     [1e+00, 1e+00]\n",
      "  RHS range        [1e+00, 1e+00]\n",
      "Presolve removed 7 rows and 7 columns\n",
      "Presolve time: 0.00s\n",
      "Presolve: All rows and columns removed\n",
      "\n",
      "Explored 0 nodes (0 simplex iterations) in 0.01 seconds\n",
      "Thread count was 1 (of 4 available processors)\n",
      "\n",
      "Solution count 1: 3 \n",
      "\n",
      "Optimal solution found (tolerance 1.00e-04)\n",
      "Best objective 3.000000000000e+00, best bound 3.000000000000e+00, gap 0.0000%\n",
      "3.0\n",
      "x_s,b \t 1.0\n",
      "x_a,c \t 1.0\n",
      "x_b,a \t 1.0\n",
      "x_c,t \t 1.0\n"
     ]
    }
   ],
   "source": [
    "from gurobipy import *\n",
    "import pandas as pd \n",
    "import numpy as np \n",
    "\n",
    "Nodes = ['s', 'a', 'b', 'c', 't'] \n",
    "\n",
    "Arcs = {('s','a'): 5 \n",
    "        ,('s','b'): 8\n",
    "        ,('a','c'): 2\n",
    "        ,('b','a'): -10\n",
    "        ,('c','b'): 3\n",
    "        ,('b','t'): 4\n",
    "        ,('c','t'): 3\n",
    "       }\n",
    "\n",
    "\n",
    "model = Model('dual problem') \n",
    "\n",
    "# add decision variables \n",
    "X = {}\n",
    "for key in Arcs.keys():\n",
    "    index = 'x_' + key[0] + ',' + key[1] \n",
    "    X[key] = model.addVar(vtype=GRB.BINARY \n",
    "                          , name= index \n",
    "                         ) \n",
    "\n",
    "# add objective function\n",
    "obj = LinExpr(0) \n",
    "for key in Arcs.keys():\n",
    "    obj.addTerms(Arcs[key], X[key])\n",
    "\n",
    "model.setObjective(obj, GRB.MINIMIZE) \n",
    "\n",
    "# constraint1 1 and constraint 2  \n",
    "lhs_1 = LinExpr(0)\n",
    "lhs_2 = LinExpr(0)\n",
    "for key in Arcs.keys():\n",
    "    if(key[0] == 's'):\n",
    "        lhs_1.addTerms(1, X[key])\n",
    "    elif(key[1] == 't'):\n",
    "        lhs_2.addTerms(1, X[key])\n",
    "model.addConstr(lhs_1 == 1, name = 'start flow')\n",
    "model.addConstr(lhs_2 == 1, name = 'end flow') \n",
    "\n",
    "# constraints 3\n",
    "for node in Nodes:\n",
    "    lhs = LinExpr(0)\n",
    "    if(node != 's' and node != 't'):\n",
    "        for key in Arcs.keys():\n",
    "            if(key[1] == node):\n",
    "                lhs.addTerms(1, X[key])\n",
    "            elif(key[0] == node):\n",
    "                lhs.addTerms(-1, X[key])\n",
    "    model.addConstr(lhs == 0, name = 'flow conservation')  \n",
    "\n",
    "model.write('model_spp.lp')\n",
    "model.optimize()\n",
    " \n",
    "print(model.ObjVal) \n",
    "for var in model.getVars(): \n",
    "    if(var.x > 0):\n",
    "        print(var.varName, '\\t', var.x) \n"
   ]
  },
  {
   "cell_type": "code",
   "execution_count": null,
   "metadata": {},
   "outputs": [],
   "source": []
  },
  {
   "cell_type": "code",
   "execution_count": 113,
   "metadata": {},
   "outputs": [
    {
     "name": "stdout",
     "output_type": "stream",
     "text": [
      "x_s,b \t 1.0\n",
      "x_a,c \t 1.0\n",
      "x_b,a \t 1.0\n",
      "x_c,t \t 1.0\n"
     ]
    }
   ],
   "source": []
  },
  {
   "cell_type": "code",
   "execution_count": null,
   "metadata": {},
   "outputs": [],
   "source": []
  }
 ],
 "metadata": {
  "kernelspec": {
   "display_name": "Python 3",
   "language": "python",
   "name": "python3"
  },
  "language_info": {
   "codemirror_mode": {
    "name": "ipython",
    "version": 3
   },
   "file_extension": ".py",
   "mimetype": "text/x-python",
   "name": "python",
   "nbconvert_exporter": "python",
   "pygments_lexer": "ipython3",
   "version": "3.7.0"
  }
 },
 "nbformat": 4,
 "nbformat_minor": 2
}
