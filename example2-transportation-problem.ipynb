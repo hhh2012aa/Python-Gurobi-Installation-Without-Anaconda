{
 "cells": [
  {
   "cell_type": "code",
   "execution_count": 1,
   "metadata": {},
   "outputs": [],
   "source": [
    "from gurobipy import*\n",
    "import pandas as pd"
   ]
  },
  {
   "cell_type": "code",
   "execution_count": 3,
   "metadata": {},
   "outputs": [],
   "source": [
    "I = [for i in range(1,6)]\n",
    "J = [for i in range(1,4)]\n",
    "D = {1:80,2:270,3:250,4:160,5:180}\n",
    "M = {1:500,2:500,3:500}\n",
    "\n",
    "c = {(1,1):4,(1,2):6,(1,3):9,\n",
    "     (2,1):5,(2,2):4,(2,3):7,\n",
    "     (3,1):6,(3,2):3,(3,3):4,\n",
    "     (4,1):8,(4,2):5,(4,3):3,\n",
    "     (5,1):10,(5,2):8,(5,3):4}"
   ]
  },
  {
   "cell_type": "code",
   "execution_count": null,
   "metadata": {},
   "outputs": [],
   "source": [
    "model = Model(\"transportation problem\")"
   ]
  },
  {
   "cell_type": "code",
   "execution_count": null,
   "metadata": {},
   "outputs": [],
   "source": [
    "#變數\n",
    "x = {}\n",
    "for i in I:\n",
    "    for j in J:\n",
    "        x[i,j] = model.addVar(vtype=\"C\", name=\"x(%s,%s)\"%(i,j))\n",
    "model.update()"
   ]
  },
  {
   "cell_type": "code",
   "execution_count": null,
   "metadata": {},
   "outputs": [],
   "source": [
    "#限制式\n",
    "for i in I:\n",
    "    model.addConstr(quicksum(x[i,j] for j in J) == D[i],name=\"Demand(%s)\"%i)\n",
    "for j in J:\n",
    "    model.addConstr(quicksum(x[i,j] for i in I) <= M[j],name=\"Capacity(%s)\"%j)"
   ]
  },
  {
   "cell_type": "code",
   "execution_count": null,
   "metadata": {},
   "outputs": [],
   "source": [
    "#目標式\n",
    "model.setObjective(quicksum(c[i,j]*x[i,j] for (i,j) in x),GRB.MINIMIZE)\n",
    "model.optimize()"
   ]
  },
  {
   "cell_type": "code",
   "execution_count": null,
   "metadata": {},
   "outputs": [],
   "source": [
    "print(\"optimal Value:\",model.ObjVal)"
   ]
  },
  {
   "cell_type": "code",
   "execution_count": null,
   "metadata": {},
   "outputs": [],
   "source": [
    "model.printAttr('X')"
   ]
  },
  {
   "cell_type": "code",
   "execution_count": null,
   "metadata": {},
   "outputs": [],
   "source": [
    "m=model.getVars()\n",
    "m"
   ]
  },
  {
   "cell_type": "code",
   "execution_count": null,
   "metadata": {},
   "outputs": [],
   "source": [
    "model.write(\"transportation problem.lp\")"
   ]
  },
  {
   "cell_type": "code",
   "execution_count": null,
   "metadata": {},
   "outputs": [],
   "source": []
  }
 ],
 "metadata": {
  "kernelspec": {
   "display_name": "Python 3",
   "language": "python",
   "name": "python3"
  },
  "language_info": {
   "codemirror_mode": {
    "name": "ipython",
    "version": 3
   },
   "file_extension": ".py",
   "mimetype": "text/x-python",
   "name": "python",
   "nbconvert_exporter": "python",
   "pygments_lexer": "ipython3",
   "version": "3.7.0"
  }
 },
 "nbformat": 4,
 "nbformat_minor": 2
}
