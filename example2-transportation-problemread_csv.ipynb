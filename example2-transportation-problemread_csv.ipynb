{
 "cells": [
  {
   "cell_type": "code",
   "execution_count": 96,
   "metadata": {},
   "outputs": [],
   "source": [
    "from gurobipy import*\n",
    "import pandas as pd"
   ]
  },
  {
   "cell_type": "code",
   "execution_count": 97,
   "metadata": {},
   "outputs": [
    {
     "data": {
      "text/html": [
       "<div>\n",
       "<style scoped>\n",
       "    .dataframe tbody tr th:only-of-type {\n",
       "        vertical-align: middle;\n",
       "    }\n",
       "\n",
       "    .dataframe tbody tr th {\n",
       "        vertical-align: top;\n",
       "    }\n",
       "\n",
       "    .dataframe thead th {\n",
       "        text-align: right;\n",
       "    }\n",
       "</style>\n",
       "<table border=\"1\" class=\"dataframe\">\n",
       "  <thead>\n",
       "    <tr style=\"text-align: right;\">\n",
       "      <th></th>\n",
       "      <th>customer</th>\n",
       "      <th>demand</th>\n",
       "      <th>cost_factory1</th>\n",
       "      <th>cost_factory2</th>\n",
       "      <th>cost_factory3</th>\n",
       "    </tr>\n",
       "  </thead>\n",
       "  <tbody>\n",
       "    <tr>\n",
       "      <th>0</th>\n",
       "      <td>1</td>\n",
       "      <td>80</td>\n",
       "      <td>4</td>\n",
       "      <td>6</td>\n",
       "      <td>9</td>\n",
       "    </tr>\n",
       "    <tr>\n",
       "      <th>1</th>\n",
       "      <td>2</td>\n",
       "      <td>270</td>\n",
       "      <td>5</td>\n",
       "      <td>4</td>\n",
       "      <td>7</td>\n",
       "    </tr>\n",
       "    <tr>\n",
       "      <th>2</th>\n",
       "      <td>3</td>\n",
       "      <td>250</td>\n",
       "      <td>6</td>\n",
       "      <td>3</td>\n",
       "      <td>4</td>\n",
       "    </tr>\n",
       "    <tr>\n",
       "      <th>3</th>\n",
       "      <td>4</td>\n",
       "      <td>160</td>\n",
       "      <td>8</td>\n",
       "      <td>5</td>\n",
       "      <td>3</td>\n",
       "    </tr>\n",
       "    <tr>\n",
       "      <th>4</th>\n",
       "      <td>5</td>\n",
       "      <td>180</td>\n",
       "      <td>10</td>\n",
       "      <td>8</td>\n",
       "      <td>4</td>\n",
       "    </tr>\n",
       "  </tbody>\n",
       "</table>\n",
       "</div>"
      ],
      "text/plain": [
       "   customer  demand  cost_factory1  cost_factory2  cost_factory3\n",
       "0         1      80              4              6              9\n",
       "1         2     270              5              4              7\n",
       "2         3     250              6              3              4\n",
       "3         4     160              8              5              3\n",
       "4         5     180             10              8              4"
      ]
     },
     "execution_count": 97,
     "metadata": {},
     "output_type": "execute_result"
    }
   ],
   "source": [
    "data=pd.read_csv(\"C:/Users/Win10/OneDrive/文件/example2.csv\")\n",
    "data"
   ]
  },
  {
   "cell_type": "code",
   "execution_count": 98,
   "metadata": {},
   "outputs": [],
   "source": [
    "demand_list=data[\"demand\"].tolist()\n",
    "capacity_list=[500,500,500]"
   ]
  },
  {
   "cell_type": "code",
   "execution_count": 115,
   "metadata": {},
   "outputs": [
    {
     "data": {
      "text/plain": [
       "[[4, 5, 6, 8, 10], [6, 4, 3, 5, 8], [9, 7, 4, 3, 4]]"
      ]
     },
     "execution_count": 115,
     "metadata": {},
     "output_type": "execute_result"
    }
   ],
   "source": [
    "Cost1 = data[\"cost_factory1\"].tolist()\n",
    "Cost2 = data[\"cost_factory2\"].tolist()\n",
    "Cost3 = data[\"cost_factory3\"].tolist()\n",
    "\n",
    "Cost = [Cost1,Cost2,Cost3]\n",
    "Cost"
   ]
  },
  {
   "cell_type": "code",
   "execution_count": 116,
   "metadata": {},
   "outputs": [],
   "source": [
    "#集合\n",
    "I = list(range(1,6))\n",
    "J = list(range(1,4))"
   ]
  },
  {
   "cell_type": "code",
   "execution_count": 117,
   "metadata": {},
   "outputs": [],
   "source": [
    "#參數\n",
    "d=dict(zip(I,demand_list))\n",
    "M=dict(zip(J,capacity_list))\n",
    "c={}\n",
    "for i in range(1,6):\n",
    "    for j in range(1,4):\n",
    "        c[i,j] = Cost[j-1][i-1]"
   ]
  },
  {
   "cell_type": "code",
   "execution_count": 105,
   "metadata": {},
   "outputs": [],
   "source": [
    "model = Model(\"transportation problem\")"
   ]
  },
  {
   "cell_type": "code",
   "execution_count": 106,
   "metadata": {},
   "outputs": [],
   "source": [
    "#變數\n",
    "x = {}\n",
    "for i in I:\n",
    "    for j in J:\n",
    "        x[i,j] = model.addVar(vtype=\"C\", name=\"x(%s,%s)\"%(i,j))\n",
    "model.update()"
   ]
  },
  {
   "cell_type": "code",
   "execution_count": 107,
   "metadata": {},
   "outputs": [],
   "source": [
    "#限制式\n",
    "for i in I:\n",
    "    model.addConstr(quicksum(x[i,j] for j in J) == d[i],name=\"Demand(%s)\"%i)\n",
    "for j in J:\n",
    "    model.addConstr(quicksum(x[i,j] for i in I) <= M[j],name=\"Capacity(%s)\"%j)"
   ]
  },
  {
   "cell_type": "code",
   "execution_count": 108,
   "metadata": {},
   "outputs": [
    {
     "name": "stdout",
     "output_type": "stream",
     "text": [
      "Gurobi Optimizer version 9.0.1 build v9.0.1rc0 (win64)\n",
      "Optimize a model with 8 rows, 15 columns and 30 nonzeros\n",
      "Model fingerprint: 0xa225ad1d\n",
      "Coefficient statistics:\n",
      "  Matrix range     [1e+00, 1e+00]\n",
      "  Objective range  [3e+00, 1e+01]\n",
      "  Bounds range     [0e+00, 0e+00]\n",
      "  RHS range        [8e+01, 5e+02]\n",
      "Presolve time: 0.00s\n",
      "Presolved: 8 rows, 15 columns, 30 nonzeros\n",
      "\n",
      "Iteration    Objective       Primal Inf.    Dual Inf.      Time\n",
      "       0    3.3500000e+03   2.000000e+01   0.000000e+00      0s\n",
      "       1    3.3700000e+03   0.000000e+00   0.000000e+00      0s\n",
      "\n",
      "Solved in 1 iterations and 0.00 seconds\n",
      "Optimal objective  3.370000000e+03\n"
     ]
    }
   ],
   "source": [
    "#目標式\n",
    "model.setObjective(quicksum(c[i,j]*x[i,j] for (i,j) in x),GRB.MINIMIZE)\n",
    "model.optimize()"
   ]
  },
  {
   "cell_type": "code",
   "execution_count": 109,
   "metadata": {},
   "outputs": [
    {
     "name": "stdout",
     "output_type": "stream",
     "text": [
      "optimal Value: 3370.0\n"
     ]
    }
   ],
   "source": [
    "print(\"optimal Value:\",model.ObjVal)"
   ]
  },
  {
   "cell_type": "code",
   "execution_count": 110,
   "metadata": {},
   "outputs": [
    {
     "name": "stdout",
     "output_type": "stream",
     "text": [
      "\n",
      "    Variable            X \n",
      "-------------------------\n",
      "      x(1,1)           80 \n",
      "      x(2,1)           20 \n",
      "      x(2,2)          250 \n",
      "      x(3,2)          250 \n",
      "      x(4,3)          160 \n",
      "      x(5,3)          180 \n"
     ]
    }
   ],
   "source": [
    "model.printAttr('X')"
   ]
  },
  {
   "cell_type": "code",
   "execution_count": 111,
   "metadata": {},
   "outputs": [
    {
     "data": {
      "text/plain": [
       "[<gurobi.Var x(1,1) (value 80.0)>,\n",
       " <gurobi.Var x(1,2) (value 0.0)>,\n",
       " <gurobi.Var x(1,3) (value 0.0)>,\n",
       " <gurobi.Var x(2,1) (value 20.0)>,\n",
       " <gurobi.Var x(2,2) (value 250.0)>,\n",
       " <gurobi.Var x(2,3) (value 0.0)>,\n",
       " <gurobi.Var x(3,1) (value 0.0)>,\n",
       " <gurobi.Var x(3,2) (value 250.0)>,\n",
       " <gurobi.Var x(3,3) (value 0.0)>,\n",
       " <gurobi.Var x(4,1) (value 0.0)>,\n",
       " <gurobi.Var x(4,2) (value 0.0)>,\n",
       " <gurobi.Var x(4,3) (value 160.0)>,\n",
       " <gurobi.Var x(5,1) (value 0.0)>,\n",
       " <gurobi.Var x(5,2) (value 0.0)>,\n",
       " <gurobi.Var x(5,3) (value 180.0)>]"
      ]
     },
     "execution_count": 111,
     "metadata": {},
     "output_type": "execute_result"
    }
   ],
   "source": [
    "m=model.getVars()\n",
    "m"
   ]
  },
  {
   "cell_type": "code",
   "execution_count": 112,
   "metadata": {},
   "outputs": [],
   "source": [
    "model.write(\"transportation problem.lp\")"
   ]
  },
  {
   "cell_type": "code",
   "execution_count": null,
   "metadata": {},
   "outputs": [],
   "source": []
  }
 ],
 "metadata": {
  "kernelspec": {
   "display_name": "Python 3",
   "language": "python",
   "name": "python3"
  },
  "language_info": {
   "codemirror_mode": {
    "name": "ipython",
    "version": 3
   },
   "file_extension": ".py",
   "mimetype": "text/x-python",
   "name": "python",
   "nbconvert_exporter": "python",
   "pygments_lexer": "ipython3",
   "version": "3.7.0"
  }
 },
 "nbformat": 4,
 "nbformat_minor": 2
}
